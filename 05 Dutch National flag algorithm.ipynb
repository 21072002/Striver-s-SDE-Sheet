{
 "cells": [
  {
   "cell_type": "markdown",
   "id": "8687716b",
   "metadata": {},
   "source": [
    "\n",
    "\n",
    "## Algorithm (Dutch National Flag Algorithm)\n",
    "1. Initialize three pointers: `low`, `mid`, and `high`.\n",
    "2. `low` points to the position before the start of 0s.\n",
    "3. `mid` is used to iterate through the array.\n",
    "4. `high` points to the position after the end of 2s.\n",
    "5. Traverse the array using the `mid` pointer:\n",
    "   - If `nums[mid]` is 0, swap it with `nums[low]`, and move both `low` and `mid` pointers to the right.\n",
    "   - If `nums[mid]` is 1, just move the `mid` pointer to the right.\n",
    "   - If `nums[mid]` is 2, swap it with `nums[high]` and move the `high` pointer to the left (decrement).\n",
    "\n"
   ]
  },
  {
   "cell_type": "code",
   "execution_count": 1,
   "id": "f2313033",
   "metadata": {},
   "outputs": [],
   "source": [
    "class Solution(object):\n",
    "    def sortColors(self, nums):\n",
    "        low, mid, high = 0, 0, len(nums)-1\n",
    "        while mid <= high:\n",
    "            if nums[mid] == 0:\n",
    "                nums[low], nums[mid] = nums[mid], nums[low]\n",
    "                low += 1\n",
    "                mid += 1\n",
    "            elif nums[mid] == 1:\n",
    "                mid += 1\n",
    "            else:\n",
    "                nums[mid], nums[high] = nums[high], nums[mid]\n",
    "                high -= 1"
   ]
  },
  {
   "cell_type": "code",
   "execution_count": 2,
   "id": "742dcc75",
   "metadata": {},
   "outputs": [
    {
     "name": "stdout",
     "output_type": "stream",
     "text": [
      "[0, 0, 1, 1, 2, 2]\n",
      "[0, 1, 2]\n"
     ]
    }
   ],
   "source": [
    "solution = Solution()\n",
    "nums1 = [2, 0, 2, 1, 1, 0]\n",
    "solution.sortColors(nums1)\n",
    "print(nums1)  # Output: [0, 0, 1, 1, 2, 2]\n",
    "\n",
    "nums2 = [2, 0, 1]\n",
    "solution.sortColors(nums2)\n",
    "print(nums2)  # Output: [0, 1, 2]\n"
   ]
  },
  {
   "cell_type": "code",
   "execution_count": null,
   "id": "6329f417",
   "metadata": {},
   "outputs": [],
   "source": []
  }
 ],
 "metadata": {
  "kernelspec": {
   "display_name": "Python 3 (ipykernel)",
   "language": "python",
   "name": "python3"
  },
  "language_info": {
   "codemirror_mode": {
    "name": "ipython",
    "version": 3
   },
   "file_extension": ".py",
   "mimetype": "text/x-python",
   "name": "python",
   "nbconvert_exporter": "python",
   "pygments_lexer": "ipython3",
   "version": "3.9.18"
  },
  "varInspector": {
   "cols": {
    "lenName": 16,
    "lenType": 16,
    "lenVar": 40
   },
   "kernels_config": {
    "python": {
     "delete_cmd_postfix": "",
     "delete_cmd_prefix": "del ",
     "library": "var_list.py",
     "varRefreshCmd": "print(var_dic_list())"
    },
    "r": {
     "delete_cmd_postfix": ") ",
     "delete_cmd_prefix": "rm(",
     "library": "var_list.r",
     "varRefreshCmd": "cat(var_dic_list()) "
    }
   },
   "types_to_exclude": [
    "module",
    "function",
    "builtin_function_or_method",
    "instance",
    "_Feature"
   ],
   "window_display": false
  }
 },
 "nbformat": 4,
 "nbformat_minor": 5
}
