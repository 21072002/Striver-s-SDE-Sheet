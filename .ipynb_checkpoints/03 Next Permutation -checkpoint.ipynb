{
 "cells": [
  {
   "cell_type": "markdown",
   "id": "8981e7f3",
   "metadata": {},
   "source": [
    "A permutation of an array of integers is an arrangement of its members into a sequence or linear order.\n",
    "\n",
    "For example, for arr = [1,2,3], the following are all the permutations of arr: [1,2,3], [1,3,2], [2, 1, 3], [2, 3, 1], [3,1,2], [3,2,1].\n",
    "The next permutation of an array of integers is the next lexicographically greater permutation of its integer. More formally, if all the permutations of the array are sorted in one container according to their lexicographical order, then the next permutation of that array is the permutation that follows it in the sorted container. If such arrangement is not possible, the array must be rearranged as the lowest possible order (i.e., sorted in ascending order).\n",
    "\n",
    "For example, the next permutation of arr = [1,2,3] is [1,3,2].\n",
    "Similarly, the next permutation of arr = [2,3,1] is [3,1,2].\n",
    "While the next permutation of arr = [3,2,1] is [1,2,3] because [3,2,1] does not have a lexicographical larger rearrangement.\n",
    "Given an array of integers nums, find the next permutation of nums.\n",
    "\n",
    "The replacement must be in place and use only constant extra memory.\n",
    "\n",
    " \n",
    "\n",
    "Example 1:\n",
    "\n",
    "Input: nums = [1,2,3]\n",
    "Output: [1,3,2]\n",
    "Example 2:\n",
    "\n",
    "Input: nums = [3,2,1]\n",
    "Output: [1,2,3]\n",
    "Example 3:\n",
    "\n",
    "Input: nums = [1,1,5]\n",
    "Output: [1,5,1]\n",
    " \n",
    "\n",
    "Constraints:\n",
    "\n",
    "1 <= nums.length <= 100\n",
    "0 <= nums[i] <= 100"
   ]
  },
  {
   "cell_type": "code",
   "execution_count": 6,
   "id": "ef42a47a",
   "metadata": {},
   "outputs": [],
   "source": [
    "class Solution:\n",
    "    def nextPermutation(self, nums: List[int]) -> None:\n",
    "        \"\"\"\n",
    "        Do not return anything, modify nums in-place instead.\n",
    "        \"\"\"\n",
    "        # Step 1: Find the first element that is smaller than its next element\n",
    "        i = len(nums) - 2\n",
    "        while i >= 0 and nums[i] >= nums[i + 1]:\n",
    "            i -= 1\n",
    "        \n",
    "        if i >= 0:\n",
    "            # Step 2: Find the smallest element to the right of i but greater than nums[i]\n",
    "            j = len(nums) - 1\n",
    "            while j >= 0 and nums[j] <= nums[i]:\n",
    "                j -= 1\n",
    "            nums[i], nums[j] = nums[j], nums[i]  # Swap\n",
    "            \n",
    "        # Step 3: Reverse the subarray to the right of i\n",
    "        left, right = i + 1, len(nums) - 1\n",
    "        while left < right:\n",
    "            nums[left], nums[right] = nums[right], nums[left]\n",
    "            left += 1\n",
    "            right -= 1\n"
   ]
  },
  {
   "cell_type": "code",
   "execution_count": 8,
   "id": "419cea3e",
   "metadata": {},
   "outputs": [
    {
     "name": "stdout",
     "output_type": "stream",
     "text": [
      "[1, 3, 2]\n",
      "[1, 2, 3]\n",
      "[1, 5, 1]\n"
     ]
    }
   ],
   "source": [
    "solution = Solution()\n",
    "nums1 = [1, 2, 3]\n",
    "solution.nextPermutation(nums1)\n",
    "print(nums1)  # Output: [1, 3, 2]\n",
    "\n",
    "nums2 = [3, 2, 1]\n",
    "solution.nextPermutation(nums2)\n",
    "print(nums2)  # Output: [1, 2, 3]\n",
    "\n",
    "nums3 = [1, 1, 5]\n",
    "solution.nextPermutation(nums3)\n",
    "print(nums3)  # Output: [1, 5, 1]\n"
   ]
  },
  {
   "cell_type": "markdown",
   "id": "9fd5f8fe",
   "metadata": {},
   "source": [
    "\n",
    "\n",
    "## Algorithm\n",
    "1. **Find the Pivot**: Search for the first element from the right that is smaller than its next element. This element is called the `pivot`.\n",
    "2. **Find the Swap Element**: Locate the smallest element to the right of the `pivot` but larger than the `pivot`.\n",
    "3. **Swap and Reverse**: Swap the `pivot` and the `swapElement`, then reverse the subarray to the right of the `pivot`.\n",
    "\n"
   ]
  },
  {
   "cell_type": "markdown",
   "id": "01f863b4",
   "metadata": {},
   "source": [
    "## Explanation\n",
    "- **Step 1**: We start by finding the `pivot` which is the first element from the right that is smaller than its next element. We traverse from right to left (`len(nums) - 2` to `0`) until we find this element.\n",
    "  \n",
    "- **Step 2**: After finding the `pivot`, we search for the `swapElement` which is the smallest element to the right of the `pivot` but larger than the `pivot`.\n",
    "\n",
    "- **Step 3**: We swap the `pivot` and `swapElement`. Then we reverse the subarray to the right of the `pivot` to obtain the next permutation.\n"
   ]
  },
  {
   "cell_type": "code",
   "execution_count": null,
   "id": "6d449344",
   "metadata": {},
   "outputs": [],
   "source": []
  }
 ],
 "metadata": {
  "kernelspec": {
   "display_name": "Python 3 (ipykernel)",
   "language": "python",
   "name": "python3"
  },
  "language_info": {
   "codemirror_mode": {
    "name": "ipython",
    "version": 3
   },
   "file_extension": ".py",
   "mimetype": "text/x-python",
   "name": "python",
   "nbconvert_exporter": "python",
   "pygments_lexer": "ipython3",
   "version": "3.9.18"
  },
  "varInspector": {
   "cols": {
    "lenName": 16,
    "lenType": 16,
    "lenVar": 40
   },
   "kernels_config": {
    "python": {
     "delete_cmd_postfix": "",
     "delete_cmd_prefix": "del ",
     "library": "var_list.py",
     "varRefreshCmd": "print(var_dic_list())"
    },
    "r": {
     "delete_cmd_postfix": ") ",
     "delete_cmd_prefix": "rm(",
     "library": "var_list.r",
     "varRefreshCmd": "cat(var_dic_list()) "
    }
   },
   "types_to_exclude": [
    "module",
    "function",
    "builtin_function_or_method",
    "instance",
    "_Feature"
   ],
   "window_display": false
  }
 },
 "nbformat": 4,
 "nbformat_minor": 5
}
