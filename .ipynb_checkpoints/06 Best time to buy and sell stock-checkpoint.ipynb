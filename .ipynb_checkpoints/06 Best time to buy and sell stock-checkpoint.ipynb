{
 "cells": [
  {
   "cell_type": "markdown",
   "id": "cf9464c7",
   "metadata": {},
   "source": [
    "\n",
    "\n",
    "## Algorithm\n",
    "1. Initialize `max_profit` to 0 (initial maximum profit) and `min_price` to infinity (initial minimum price).\n",
    "2. Traverse through the prices array.\n",
    "   - Update `min_price` to be the minimum of the current price and `min_price`.\n",
    "   - Update `max_profit` to be the maximum of the current profit (current price minus `min_price`) and `max_profit`.\n",
    "3. Return `max_profit`."
   ]
  },
  {
   "cell_type": "code",
   "execution_count": 1,
   "id": "7745f4d9",
   "metadata": {},
   "outputs": [],
   "source": [
    "class Solution(object):\n",
    "    def maxProfit(self, prices):\n",
    "        if not prices:\n",
    "            return 0\n",
    "        \n",
    "        max_profit = 0\n",
    "        min_price = float('inf')\n",
    "        \n",
    "        for price in prices:\n",
    "            min_price = min(min_price, price)\n",
    "            max_profit = max(max_profit, price - min_price)\n",
    "        \n",
    "        return max_profit\n"
   ]
  },
  {
   "cell_type": "code",
   "execution_count": 2,
   "id": "6a31bb21",
   "metadata": {},
   "outputs": [
    {
     "name": "stdout",
     "output_type": "stream",
     "text": [
      "5\n",
      "0\n"
     ]
    }
   ],
   "source": [
    "solution = Solution()\n",
    "print(solution.maxProfit([7, 1, 5, 3, 6, 4]))  # Output: 5\n",
    "print(solution.maxProfit([7, 6, 4, 3, 1]))    # Output: 0\n"
   ]
  },
  {
   "cell_type": "code",
   "execution_count": null,
   "id": "b27f52ac",
   "metadata": {},
   "outputs": [],
   "source": []
  }
 ],
 "metadata": {
  "kernelspec": {
   "display_name": "Python 3 (ipykernel)",
   "language": "python",
   "name": "python3"
  },
  "language_info": {
   "codemirror_mode": {
    "name": "ipython",
    "version": 3
   },
   "file_extension": ".py",
   "mimetype": "text/x-python",
   "name": "python",
   "nbconvert_exporter": "python",
   "pygments_lexer": "ipython3",
   "version": "3.9.18"
  },
  "varInspector": {
   "cols": {
    "lenName": 16,
    "lenType": 16,
    "lenVar": 40
   },
   "kernels_config": {
    "python": {
     "delete_cmd_postfix": "",
     "delete_cmd_prefix": "del ",
     "library": "var_list.py",
     "varRefreshCmd": "print(var_dic_list())"
    },
    "r": {
     "delete_cmd_postfix": ") ",
     "delete_cmd_prefix": "rm(",
     "library": "var_list.r",
     "varRefreshCmd": "cat(var_dic_list()) "
    }
   },
   "types_to_exclude": [
    "module",
    "function",
    "builtin_function_or_method",
    "instance",
    "_Feature"
   ],
   "window_display": false
  }
 },
 "nbformat": 4,
 "nbformat_minor": 5
}
