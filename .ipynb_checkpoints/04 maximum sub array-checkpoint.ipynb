{
 "cells": [
  {
   "cell_type": "markdown",
   "id": "e9a8128b",
   "metadata": {},
   "source": [
    "\n",
    "## Algorithm (Kadane's Algorithm)\n",
    "1. Initialize two variables: `max_sum` to keep track of the maximum sum found so far and `current_sum` to keep track of the current sum while traversing the array.\n",
    "2. Iterate through the array from the second element (index 1) to the end.\n",
    "3. At each step, update `current_sum` to be the maximum of the current element and the sum of the current element and the previous `current_sum`.\n",
    "4. Update `max_sum` to be the maximum of `max_sum` and `current_sum`.\n",
    "5. Return `max_sum` as the maximum subarray sum.\n",
    "\n"
   ]
  },
  {
   "cell_type": "code",
   "execution_count": 4,
   "id": "966d647e",
   "metadata": {},
   "outputs": [],
   "source": [
    "from typing import List\n",
    "\n",
    "class Solution:\n",
    "    def maxSubArray(self, nums: List[int]) -> int:\n",
    "        # Check if the array is empty\n",
    "        if not nums:\n",
    "            return 0\n",
    "\n",
    "        # Initialize variables\n",
    "        max_sum = nums[0]  # Maximum sum found so far\n",
    "        current_sum = nums[0]  # Current sum while traversing the array\n",
    "\n",
    "        # Iterate through the array\n",
    "        for i in range(1, len(nums)):\n",
    "            # Update the current sum (either continue the subarray or start a new one)\n",
    "            current_sum = max(nums[i], current_sum + nums[i])\n",
    "            \n",
    "            # Update the maximum sum found so far\n",
    "            max_sum = max(max_sum, current_sum)\n",
    "\n",
    "        # Return the maximum sum found\n",
    "        return max_sum\n"
   ]
  },
  {
   "cell_type": "code",
   "execution_count": 5,
   "id": "814c6353",
   "metadata": {},
   "outputs": [
    {
     "name": "stdout",
     "output_type": "stream",
     "text": [
      "6\n"
     ]
    }
   ],
   "source": [
    "solution = Solution()\n",
    "nums = [-2, 1, -3, 4, -1, 2, 1, -5, 4]\n",
    "print(solution.maxSubArray(nums))  # Output: 6 (The maximum subarray is [4,-1,2,1] with sum 6)\n"
   ]
  },
  {
   "cell_type": "code",
   "execution_count": null,
   "id": "36a0e548",
   "metadata": {},
   "outputs": [],
   "source": []
  }
 ],
 "metadata": {
  "kernelspec": {
   "display_name": "Python 3 (ipykernel)",
   "language": "python",
   "name": "python3"
  },
  "language_info": {
   "codemirror_mode": {
    "name": "ipython",
    "version": 3
   },
   "file_extension": ".py",
   "mimetype": "text/x-python",
   "name": "python",
   "nbconvert_exporter": "python",
   "pygments_lexer": "ipython3",
   "version": "3.9.18"
  },
  "varInspector": {
   "cols": {
    "lenName": 16,
    "lenType": 16,
    "lenVar": 40
   },
   "kernels_config": {
    "python": {
     "delete_cmd_postfix": "",
     "delete_cmd_prefix": "del ",
     "library": "var_list.py",
     "varRefreshCmd": "print(var_dic_list())"
    },
    "r": {
     "delete_cmd_postfix": ") ",
     "delete_cmd_prefix": "rm(",
     "library": "var_list.r",
     "varRefreshCmd": "cat(var_dic_list()) "
    }
   },
   "types_to_exclude": [
    "module",
    "function",
    "builtin_function_or_method",
    "instance",
    "_Feature"
   ],
   "window_display": false
  }
 },
 "nbformat": 4,
 "nbformat_minor": 5
}
